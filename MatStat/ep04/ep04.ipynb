{
 "cells": [
  {
   "cell_type": "markdown",
   "metadata": {},
   "source": [
    "## Урок 3\n",
    "### Непрерывные случайные величины. Функция распределения и плотность распределения вероятностей. Равномерное и нормальное распределение. Центральная предельная теорема\n",
    "### Домашнее задание"
   ]
  },
  {
   "cell_type": "markdown",
   "metadata": {},
   "source": [
    "#### Задача 1\n",
    "\n",
    "О непрерывной равномерно распределённой случайной величине B известно, что её дисперсия равна 0.2. Можно ли найти правую границу величины B и её среднее значение зная, что левая граница равна 0.5? Если да, найдите их."
   ]
  },
  {
   "cell_type": "markdown",
   "metadata": {},
   "source": [
    "У нас есть $a = 0.5\\ и\\ D(B) = 0.2$.\n",
    "\n",
    "$D(B) = \\frac{(b - a)^2}{12}$\n",
    "\n",
    "$0.2 = \\frac{(b - 0.5)^2}{12}$\n",
    "\n",
    "$b = \\sqrt{2.4} + 0.5 \\approx 2.0492$\n",
    "\n",
    "Правая граница равна примерно $2.0492$."
   ]
  },
  {
   "cell_type": "markdown",
   "metadata": {},
   "source": [
    "#### Задача 2\n",
    "\n",
    "Коробки с шоколадом упаковываются автоматически. Их средняя масса равна 1.06 кг. Известно, что 5% коробок имеют массу, меньшую 1 кг. Найдите: а) среднее квадратическое отклонение массы коробки, б) процент коробок, имеющих массу больше 1.1 кг.\n",
    "\n",
    "Подсказка. Найдите такое значение scale, для которого значение cdf(x=1, loc=1.06, scale=scale) близко к 0.05. Точности 0.0001 будет достаточно."
   ]
  },
  {
   "cell_type": "markdown",
   "metadata": {},
   "source": [
    "а) Нам необходимо найти $\\sigma$. Будем использовать правило двух сигм. $а$-$2\\sigma$ равно 0.06 (1.06 кг - 1 кг). Тогда $\\sigma = 0.03$.\n",
    "Расчет:"
   ]
  },
  {
   "cell_type": "code",
   "execution_count": 1,
   "metadata": {},
   "outputs": [
    {
     "name": "stdout",
     "output_type": "stream",
     "text": [
      "Среднее квадратическое отклонение массы коробки 0.036399999999998184\n"
     ]
    }
   ],
   "source": [
    "from scipy.stats import norm\n",
    "scale=0.1\n",
    "while norm.ppf(0.05, loc=1.06, scale=scale) < 1:\n",
    "    scale -= .0001\n",
    "print('Среднее квадратическое отклонение массы коробки', scale)"
   ]
  },
  {
   "cell_type": "markdown",
   "metadata": {},
   "source": [
    "б) Процент коробок с массой более 1.1 кг: \n",
    "$P(x>1.1)=1−P(x<=1.1)$"
   ]
  },
  {
   "cell_type": "code",
   "execution_count": 2,
   "metadata": {},
   "outputs": [
    {
     "name": "stdout",
     "output_type": "stream",
     "text": [
      "13.590560364429871 процентов коробок имеют массу больше 1.1 кг\n"
     ]
    }
   ],
   "source": [
    "print((1 - norm.cdf(1.1, loc=1.06, scale=0.036399999999998184))*100, 'процентов коробок имеют массу больше 1.1 кг')"
   ]
  },
  {
   "cell_type": "markdown",
   "metadata": {},
   "source": [
    "#### Задача 3\n",
    "\n",
    "Коробка содержит 30 конфет. Известно, что масса каждой конфеты распределена равномерно в промежутке от 12 до 14 граммов. Используя центральную предельную теорему, найти вероятность, что масса всей коробки будет: а) меньше 390 граммов, б) больше 395 граммов, в) от 380 до 400 граммов.\n",
    "\n",
    "Массой самой коробки можно пренебречь."
   ]
  },
  {
   "cell_type": "markdown",
   "metadata": {},
   "source": [
    "Считаем, что масса конфет в коробке имеет нормальное распределение $\\mu = \\frac{14+12}{2}*30=390$"
   ]
  },
  {
   "cell_type": "code",
   "execution_count": 3,
   "metadata": {},
   "outputs": [
    {
     "data": {
      "text/plain": [
       "390.0"
      ]
     },
     "execution_count": 3,
     "metadata": {},
     "output_type": "execute_result"
    }
   ],
   "source": [
    "(14 + 12) / 2 * 30"
   ]
  },
  {
   "cell_type": "markdown",
   "metadata": {},
   "source": [
    "$\\sigma= \\sqrt{\\frac{(14-12)^2}{12}*30}$"
   ]
  },
  {
   "cell_type": "code",
   "execution_count": 4,
   "metadata": {
    "scrolled": true
   },
   "outputs": [
    {
     "data": {
      "text/plain": [
       "3.1622776601683795"
      ]
     },
     "execution_count": 4,
     "metadata": {},
     "output_type": "execute_result"
    }
   ],
   "source": [
    "(((14 - 12) ** 2 / 12) * 30) ** 0.5"
   ]
  },
  {
   "cell_type": "markdown",
   "metadata": {},
   "source": [
    "а) По симметрии распределения с вероятностью 50% масса коробки будет меньше 390 грамм."
   ]
  },
  {
   "cell_type": "markdown",
   "metadata": {},
   "source": [
    "б) $P(x>0.395) = 1 - P(x<0.395)$"
   ]
  },
  {
   "cell_type": "code",
   "execution_count": 7,
   "metadata": {},
   "outputs": [
    {
     "name": "stdout",
     "output_type": "stream",
     "text": [
      "С вероятностью 0.056923149003329065 масса конфет будет больше 395 граммов\n"
     ]
    }
   ],
   "source": [
    "p_395 = 1 - norm.cdf(395, loc=390, scale=3.1622776601683795)\n",
    "print('С вероятностью', p_395, 'масса конфет будет больше 395 граммов')"
   ]
  },
  {
   "cell_type": "markdown",
   "metadata": {},
   "source": [
    "в) $P(0.380 \\leq x \\leq 0.400) = P(x \\leq 0.400) - P(x \\leq 0.380)$"
   ]
  },
  {
   "cell_type": "code",
   "execution_count": 10,
   "metadata": {},
   "outputs": [
    {
     "name": "stdout",
     "output_type": "stream",
     "text": [
      "С вероятностью 0.9984345977419975 масса конфет будет между 380 и 400 граммов\n"
     ]
    }
   ],
   "source": [
    "p_380_400 = norm.cdf(400, loc=390, scale=3.1622776601683795) - norm.cdf(380, loc=390, scale=3.1622776601683795)\n",
    "print('С вероятностью', p_380_400, 'масса конфет будет между 380 и 400 граммов')"
   ]
  }
 ],
 "metadata": {
  "kernelspec": {
   "display_name": "Python 3",
   "language": "python",
   "name": "python3"
  },
  "language_info": {
   "codemirror_mode": {
    "name": "ipython",
    "version": 3
   },
   "file_extension": ".py",
   "mimetype": "text/x-python",
   "name": "python",
   "nbconvert_exporter": "python",
   "pygments_lexer": "ipython3",
   "version": "3.7.6"
  }
 },
 "nbformat": 4,
 "nbformat_minor": 4
}
