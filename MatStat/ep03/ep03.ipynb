{
 "cells": [
  {
   "cell_type": "markdown",
   "metadata": {},
   "source": [
    "## Урок 3\n",
    "### Описательная статистика. Качественные и количественные характеристики популяции. Графическое представление данных\n",
    "### Домашнее задание"
   ]
  },
  {
   "cell_type": "markdown",
   "metadata": {},
   "source": [
    "#### Задача 1\n",
    "\n",
    "Даны значения зарплат из выборки выпускников:\n",
    "\n",
    "100, 80, 75, 77, 89, 33, 45, 25, 65, 17, 30, 230, 24, 57, 55, 70, 75, 65, 84, 90, 150\n",
    "\n",
    "Используя только встроенные питоновские функции и структуры данных (т.е. без библиотек numpy, pandas и др.) посчитать среднее арифметическое, смещённую и несмещённую оценки дисперсии, среднее квадратичное отклонение для данной выборки.\n",
    "\n",
    "Можно затем посчитать те же значения с использованием библиотек, чтобы проверить себя."
   ]
  },
  {
   "cell_type": "markdown",
   "metadata": {},
   "source": [
    "Подгрузим библиотеку numpy для проверки"
   ]
  },
  {
   "cell_type": "code",
   "execution_count": 1,
   "metadata": {},
   "outputs": [],
   "source": [
    "import numpy as np\n",
    "from matplotlib import pyplot as plt"
   ]
  },
  {
   "cell_type": "code",
   "execution_count": 2,
   "metadata": {},
   "outputs": [],
   "source": [
    "v = [100, 80, 75, 77, 89, 33, 45, 25, 65, 17, 30, 230, 24, 57, 55, 70, 75, 65, 84, 90, 150]"
   ]
  },
  {
   "cell_type": "markdown",
   "metadata": {},
   "source": [
    "Среднее арифметическое"
   ]
  },
  {
   "cell_type": "code",
   "execution_count": 3,
   "metadata": {},
   "outputs": [
    {
     "name": "stdout",
     "output_type": "stream",
     "text": [
      "Посчитанное значение 73.14285714285714 и посчитанное с использованием библиотек 73.14285714285714\n"
     ]
    }
   ],
   "source": [
    "sum_v = 0\n",
    "for i in v:\n",
    "    sum_v += i\n",
    "mean_v = sum_v / len(v)\n",
    "print('Посчитанное значение', mean_v, 'и посчитанное с использованием библиотек', np.mean(v))"
   ]
  },
  {
   "cell_type": "markdown",
   "metadata": {},
   "source": [
    "Смещённая оценка дисперсии"
   ]
  },
  {
   "cell_type": "code",
   "execution_count": 4,
   "metadata": {},
   "outputs": [
    {
     "name": "stdout",
     "output_type": "stream",
     "text": [
      "Посчитанное значение 2135.074829931973 и посчитанное с использованием библиотек 2135.0748299319725\n"
     ]
    }
   ],
   "source": [
    "sum_dv = 0\n",
    "for i in v:\n",
    "    sum_dv += (i - mean_v)**2\n",
    "ds_v = sum_dv / len(v)\n",
    "print('Посчитанное значение', ds_v, 'и посчитанное с использованием библиотек', np.array(v).var(ddof=0))"
   ]
  },
  {
   "cell_type": "markdown",
   "metadata": {},
   "source": [
    "Несмещённая оценка дисперсии"
   ]
  },
  {
   "cell_type": "code",
   "execution_count": 5,
   "metadata": {},
   "outputs": [
    {
     "name": "stdout",
     "output_type": "stream",
     "text": [
      "Посчитанное значение 2241.8285714285716 и посчитанное с использованием библиотек 2241.828571428571\n"
     ]
    }
   ],
   "source": [
    "sum_dv = 0\n",
    "for i in v:\n",
    "    sum_dv += (i - mean_v)**2\n",
    "dns_v = sum_dv / (len(v)-1)\n",
    "print('Посчитанное значение', dns_v, 'и посчитанное с использованием библиотек', np.array(v).var(ddof=1))"
   ]
  },
  {
   "cell_type": "markdown",
   "metadata": {},
   "source": [
    "Среднее квадратичное отклонение для данной выборки"
   ]
  },
  {
   "cell_type": "code",
   "execution_count": 6,
   "metadata": {},
   "outputs": [
    {
     "name": "stdout",
     "output_type": "stream",
     "text": [
      "Посчитанное значение 47.34795213553139 и посчитанное с использованием библиотек 47.347952135531386\n"
     ]
    }
   ],
   "source": [
    "sko_v = dns_v ** 0.5\n",
    "print('Посчитанное значение', sko_v, 'и посчитанное с использованием библиотек', np.array(v).std(ddof=1))"
   ]
  },
  {
   "cell_type": "markdown",
   "metadata": {},
   "source": [
    "#### Задача 2\n",
    "\n",
    "Для выборки из задачи 1 найти (также без использования библиотек):\n",
    "1. медиану, первый и третий квартили, интерквартильное расстояние,\n",
    "2. выбросы в выборке (используя для этого метод как при построении \"усов\" из boxplot).\n",
    "\n",
    "Возможные неоднозначности в вычислении квантилей можно разрешать любым способом."
   ]
  },
  {
   "cell_type": "markdown",
   "metadata": {},
   "source": [
    "Медиана"
   ]
  },
  {
   "cell_type": "code",
   "execution_count": 7,
   "metadata": {},
   "outputs": [
    {
     "name": "stdout",
     "output_type": "stream",
     "text": [
      "Посчитанное значение 70 и посчитанное с использованием библиотек 70.0\n"
     ]
    }
   ],
   "source": [
    "v_sort = sorted(v)\n",
    "v_mediana = v_sort[len(v) // 2] if len(v) % 2 == 1 else (v_sort[len(v) // 2 - 1] + v_sort[len(v) // 2]) * 0.5\n",
    "print('Посчитанное значение', v_mediana, 'и посчитанное с использованием библиотек', np.median(v_sort))"
   ]
  },
  {
   "cell_type": "markdown",
   "metadata": {},
   "source": [
    "Первый квартиль"
   ]
  },
  {
   "cell_type": "code",
   "execution_count": 8,
   "metadata": {},
   "outputs": [
    {
     "name": "stdout",
     "output_type": "stream",
     "text": [
      "Посчитанное значение 45.0 и посчитанное с использованием библиотек 45.0\n"
     ]
    }
   ],
   "source": [
    "v_kvart_1 = v_sort[len(v) // 4] if len(v) % 4 == 0 else (v_sort[len(v) // 4] + v_sort[(len(v) + 1 ) // 4]) * 0.5\n",
    "print('Посчитанное значение', v_kvart_1, 'и посчитанное с использованием библиотек', np.quantile(v_sort, 0.25))"
   ]
  },
  {
   "cell_type": "markdown",
   "metadata": {},
   "source": [
    "Третий квартиль"
   ]
  },
  {
   "cell_type": "code",
   "execution_count": 9,
   "metadata": {},
   "outputs": [
    {
     "name": "stdout",
     "output_type": "stream",
     "text": [
      "Посчитанное значение 84.0 и посчитанное с использованием библиотек 84.0\n"
     ]
    }
   ],
   "source": [
    "v_kvart_3 = v_sort[len(v) // 4 * 3] if len(v) % 4 == 0 else (v_sort[len(v) // 4 * 3] + v_sort[(len(v) + 1 ) // 4 * 3]) * 0.5\n",
    "print('Посчитанное значение', v_kvart_3, 'и посчитанное с использованием библиотек', np.quantile(v_sort, 0.75))"
   ]
  },
  {
   "cell_type": "markdown",
   "metadata": {},
   "source": [
    "Интерквартильное расстояние"
   ]
  },
  {
   "cell_type": "code",
   "execution_count": 10,
   "metadata": {},
   "outputs": [
    {
     "data": {
      "text/plain": [
       "39.0"
      ]
     },
     "execution_count": 10,
     "metadata": {},
     "output_type": "execute_result"
    }
   ],
   "source": [
    "v_kvart_3 - v_kvart_1"
   ]
  },
  {
   "cell_type": "markdown",
   "metadata": {},
   "source": [
    "Выбросы"
   ]
  },
  {
   "cell_type": "code",
   "execution_count": 11,
   "metadata": {},
   "outputs": [
    {
     "name": "stdout",
     "output_type": "stream",
     "text": [
      "230\n",
      "150\n"
     ]
    }
   ],
   "source": [
    "for i in v:\n",
    "    if abs(i - mean_v) > sko_v * 1.5:\n",
    "        print(i)"
   ]
  },
  {
   "cell_type": "code",
   "execution_count": 26,
   "metadata": {},
   "outputs": [
    {
     "data": {
      "image/png": "[encoded data removed]",
      "text/plain": [
       "<Figure size 720x360 with 1 Axes>"
      ]
     },
     "metadata": {
      "needs_background": "light"
     },
     "output_type": "display_data"
    }
   ],
   "source": [
    "fig = plt.figure(figsize=[10, 5])\n",
    "plt.boxplot(v, vert=False)\n",
    "plt.minorticks_on()\n",
    "plt.grid(which='major',\n",
    "         linewidth = 2)\n",
    "plt.grid(which='minor', \n",
    "        linestyle = ':')"
   ]
  },
  {
   "cell_type": "markdown",
   "metadata": {},
   "source": [
    "#### Задача 3\n",
    "\n",
    "В университет на факультеты A и B поступило равное количество студентов, а на факультет C студентов поступило столько же, сколько на A и B вместе. Вероятность того, что студент факультета A сдаст первую сессию, равна 0.8. Для студента факультета B эта вероятность равна 0.7, а для студента факультета C - 0.9. Студент сдал первую сессию. Какова вероятность, что он учится: a) на факультете A? б) на факультете B? в) на факультете C?\n",
    "\n",
    "Замечание: да, эта задача не на тему описательных статистик, но тема важная, и её стоит иногда освежать в памяти."
   ]
  },
  {
   "cell_type": "markdown",
   "metadata": {},
   "source": [
    "Используем Байеса. А1 - студент факультета А, А2 - студент факультета В, А3 - студент факультета С, а В - студент сдал первую сессию."
   ]
  },
  {
   "cell_type": "code",
   "execution_count": 27,
   "metadata": {},
   "outputs": [],
   "source": [
    "a1 = 0.8\n",
    "a2 = 0.7\n",
    "a3 = 0.9"
   ]
  },
  {
   "cell_type": "code",
   "execution_count": 35,
   "metadata": {},
   "outputs": [
    {
     "name": "stdout",
     "output_type": "stream",
     "text": [
      "Вероятности того, что студент учится на: факультет А 0.242 , факультет B 0.212 , факультет C 0.545\n"
     ]
    }
   ],
   "source": [
    "P1 = (a1 * 0.25) / (a1 * 0.25 + a2 * 0.25 + a3 * 0.5)\n",
    "P2 = (a2 * 0.25) / (a1 * 0.25 + a2 * 0.25 + a3 * 0.5)\n",
    "P3 = (a3 * 0.5) / (a1 * 0.25 + a2 * 0.25 + a3 * 0.5)\n",
    "print('Вероятности того, что студент учится на: факультет А', round(P1, 3), ', факультет B', round(P2, 3), ', факультет C', round(P3, 3))"
   ]
  }
 ],
 "metadata": {
  "kernelspec": {
   "display_name": "Python 3",
   "language": "python",
   "name": "python3"
  },
  "language_info": {
   "codemirror_mode": {
    "name": "ipython",
    "version": 3
   },
   "file_extension": ".py",
   "mimetype": "text/x-python",
   "name": "python",
   "nbconvert_exporter": "python",
   "pygments_lexer": "ipython3",
   "version": "3.7.6"
  }
 },
 "nbformat": 4,
 "nbformat_minor": 4
}
